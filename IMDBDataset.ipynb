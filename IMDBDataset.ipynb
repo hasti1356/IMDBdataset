{
  "cells": [
    {
      "cell_type": "code",
      "execution_count": null,
      "metadata": {
        "id": "TkyTECuXgqVR"
      },
      "outputs": [],
      "source": [
        "import tensorflow as tf\n",
        "from keras.datasets import imdb"
      ]
    },
    {
      "cell_type": "code",
      "execution_count": null,
      "metadata": {
        "id": "R5-YFJPeracd"
      },
      "outputs": [],
      "source": [
        "# in this code we use of 10000 words that most usable "
      ]
    },
    {
      "cell_type": "code",
      "execution_count": null,
      "metadata": {
        "id": "M1HgPeWXrGls",
        "colab": {
          "base_uri": "https://localhost:8080/"
        },
        "outputId": "e1996a3f-729d-4764-928b-c2e9c4a2b16f"
      },
      "outputs": [
        {
          "output_type": "stream",
          "name": "stdout",
          "text": [
            "Downloading data from https://storage.googleapis.com/tensorflow/tf-keras-datasets/imdb.npz\n",
            "17464789/17464789 [==============================] - 0s 0us/step\n"
          ]
        }
      ],
      "source": [
        "(test_data,test_target),(train_data,train_target)=imdb.load_data(num_words=10000)"
      ]
    },
    {
      "cell_type": "code",
      "execution_count": null,
      "metadata": {
        "id": "w6Ebwc04rRV1"
      },
      "outputs": [],
      "source": [
        "# in this code we show index of words"
      ]
    },
    {
      "cell_type": "code",
      "execution_count": null,
      "metadata": {
        "colab": {
          "base_uri": "https://localhost:8080/"
        },
        "id": "Ax6szDapsCMQ",
        "outputId": "94ad2f2b-05a3-403a-e882-17bece1bdc11"
      },
      "outputs": [
        {
          "output_type": "stream",
          "name": "stdout",
          "text": [
            "Downloading data from https://storage.googleapis.com/tensorflow/tf-keras-datasets/imdb_word_index.json\n",
            "1641221/1641221 [==============================] - 0s 0us/step\n"
          ]
        }
      ],
      "source": [
        "index_word=imdb.get_word_index()"
      ]
    },
    {
      "cell_type": "code",
      "execution_count": null,
      "metadata": {
        "id": "mLvj6GEPsCRX"
      },
      "outputs": [],
      "source": [
        "index_word"
      ]
    },
    {
      "cell_type": "code",
      "execution_count": null,
      "metadata": {
        "colab": {
          "base_uri": "https://localhost:8080/"
        },
        "id": "9G6OywmnsCUU",
        "outputId": "cca0e7c0-96ae-4a6e-e10b-05b93e720391"
      },
      "outputs": [
        {
          "output_type": "execute_result",
          "data": {
            "text/plain": [
              "181"
            ]
          },
          "metadata": {},
          "execution_count": 6
        }
      ],
      "source": [
        "index_word['pretty']"
      ]
    },
    {
      "cell_type": "code",
      "execution_count": null,
      "metadata": {
        "id": "ZsCePdTMrRYs"
      },
      "outputs": [],
      "source": [
        "#in this code we decode index_word to words due to we see complete client;s sentences "
      ]
    },
    {
      "cell_type": "code",
      "execution_count": null,
      "metadata": {
        "id": "dtRBRVCetB4_"
      },
      "outputs": [],
      "source": [
        "dic_words=dict([(value,key) for (key,value) in index_word.items()])"
      ]
    },
    {
      "cell_type": "code",
      "execution_count": null,
      "metadata": {
        "colab": {
          "base_uri": "https://localhost:8080/",
          "height": 35
        },
        "id": "-Loj7OnxuCp4",
        "outputId": "d2fced3e-d5ac-4228-ac8c-be7cd6bcb6ab"
      },
      "outputs": [
        {
          "output_type": "execute_result",
          "data": {
            "text/plain": [
              "'pretty'"
            ],
            "application/vnd.google.colaboratory.intrinsic+json": {
              "type": "string"
            }
          },
          "metadata": {},
          "execution_count": 8
        }
      ],
      "source": [
        "dic_words[181]"
      ]
    },
    {
      "cell_type": "code",
      "execution_count": null,
      "metadata": {
        "id": "AlvMtaQdwNwc"
      },
      "outputs": [],
      "source": [
        "train_data[5]"
      ]
    },
    {
      "cell_type": "code",
      "execution_count": null,
      "metadata": {
        "id": "2KaJkUFuuw3T"
      },
      "outputs": [],
      "source": [
        "decode_sentence=' '.join([dic_words.get(i -3, '?')for i in train_data[5]])"
      ]
    },
    {
      "cell_type": "code",
      "execution_count": null,
      "metadata": {
        "colab": {
          "base_uri": "https://localhost:8080/",
          "height": 104
        },
        "id": "iMn58JWhvylH",
        "outputId": "3e5f7fa2-cd85-4b02-8692-a89758248a6b"
      },
      "outputs": [
        {
          "output_type": "execute_result",
          "data": {
            "text/plain": [
              "\"? i'm absolutely disgusted this movie isn't being sold all who love this movie should email disney and increase the demand for it they'd eventually have to sell it then i'd buy copies for everybody i know everything and everybody in this movie did a good job and i haven't figured out why disney hasn't put this movie on dvd or on vhs in rental stores at least i haven't seen any copies this is a wicked good movie and should be seen by all the kids in the new generation don't get to see it and i think they should it should at least be put back on the channel this movie doesn't deserve a cheap ? it deserves the real thing i'm them now this movie will be on dvd\""
            ],
            "application/vnd.google.colaboratory.intrinsic+json": {
              "type": "string"
            }
          },
          "metadata": {},
          "execution_count": 11
        }
      ],
      "source": [
        "decode_sentence"
      ]
    },
    {
      "cell_type": "code",
      "execution_count": null,
      "metadata": {
        "colab": {
          "base_uri": "https://localhost:8080/"
        },
        "id": "a5RazeKQwBiW",
        "outputId": "73996dcf-3f5e-4406-8ce9-8894f834d22a"
      },
      "outputs": [
        {
          "output_type": "execute_result",
          "data": {
            "text/plain": [
              "1"
            ]
          },
          "metadata": {},
          "execution_count": 29
        }
      ],
      "source": [
        "train_target[5]"
      ]
    },
    {
      "cell_type": "code",
      "execution_count": null,
      "metadata": {
        "id": "mtdsyGk3zFa4"
      },
      "outputs": [],
      "source": [
        "import numpy as np"
      ]
    },
    {
      "cell_type": "code",
      "execution_count": null,
      "metadata": {
        "id": "9q7_H3CZzKSN"
      },
      "outputs": [],
      "source": [
        "#in this code we use one hote in to change data to tensor"
      ]
    },
    {
      "cell_type": "code",
      "execution_count": null,
      "metadata": {
        "id": "XdaCD-5Mzpmt"
      },
      "outputs": [],
      "source": [
        "def creat_tensor(data,dim=10000):\n",
        "  result=np.zeros((len(data),dim))\n",
        "  for i, data in enumerate(data):\n",
        "    # print(data)\n",
        "    result[i,data]=1\n",
        "  return result"
      ]
    },
    {
      "cell_type": "code",
      "execution_count": null,
      "metadata": {
        "id": "apgLFOC00k60"
      },
      "outputs": [],
      "source": [
        "x_train=creat_tensor(train_data)\n",
        "x_test=creat_tensor(test_data)"
      ]
    },
    {
      "cell_type": "code",
      "source": [
        "print(type(x_test))"
      ],
      "metadata": {
        "colab": {
          "base_uri": "https://localhost:8080/"
        },
        "id": "109DFtu15h9x",
        "outputId": "c887bf1e-fb41-4ba5-dd63-6ca379f5ac5c"
      },
      "execution_count": null,
      "outputs": [
        {
          "output_type": "stream",
          "name": "stdout",
          "text": [
            "<class 'numpy.ndarray'>\n"
          ]
        }
      ]
    },
    {
      "cell_type": "code",
      "source": [
        "#Creat Model"
      ],
      "metadata": {
        "id": "ZKKCm0U8ydJi"
      },
      "execution_count": null,
      "outputs": []
    },
    {
      "cell_type": "code",
      "source": [
        "from keras import models,layers"
      ],
      "metadata": {
        "id": "LrSJg6dIVZIR"
      },
      "execution_count": null,
      "outputs": []
    },
    {
      "cell_type": "code",
      "source": [
        "model=models.Sequential()"
      ],
      "metadata": {
        "id": "6-NS10SPVZr3"
      },
      "execution_count": null,
      "outputs": []
    },
    {
      "cell_type": "code",
      "source": [
        "model.add(layers.Dense(16,activation='relu',input_shape=(10000,)))\n",
        "model.add(layers.Dense(16,activation='relu'))\n",
        "model.add(layers.Dense(1,activation='sigmoid'))\n"
      ],
      "metadata": {
        "id": "Qd-g9GWAyacb"
      },
      "execution_count": 101,
      "outputs": []
    },
    {
      "cell_type": "code",
      "source": [
        "#compile Model"
      ],
      "metadata": {
        "id": "AUu4F5kJycPx"
      },
      "execution_count": null,
      "outputs": []
    },
    {
      "cell_type": "code",
      "source": [
        "from keras import losses\n",
        "from keras import optimizers\n",
        "from keras import metrics"
      ],
      "metadata": {
        "id": "CB3-vk_6z4Pb"
      },
      "execution_count": null,
      "outputs": []
    },
    {
      "cell_type": "code",
      "source": [
        "from keras.metrics.base_metric import Metric\n",
        "model.compile(optimizer='rmsprop',\n",
        "              loss=losses.binary_crossentropy,\n",
        "              metrics=[metrics.accuracy])"
      ],
      "metadata": {
        "id": "FJpO9WoP1QZy"
      },
      "execution_count": 102,
      "outputs": []
    },
    {
      "cell_type": "code",
      "source": [
        "print(type(train_target))"
      ],
      "metadata": {
        "colab": {
          "base_uri": "https://localhost:8080/"
        },
        "id": "X3xLYUqy5CPM",
        "outputId": "b62ea50c-c6bc-44db-bc7f-e5b5aa7aad22"
      },
      "execution_count": null,
      "outputs": [
        {
          "output_type": "stream",
          "name": "stdout",
          "text": [
            "<class 'numpy.ndarray'>\n"
          ]
        }
      ]
    },
    {
      "cell_type": "code",
      "source": [
        "#change data to flot32"
      ],
      "metadata": {
        "id": "9isI4QIU6UMS"
      },
      "execution_count": null,
      "outputs": []
    },
    {
      "cell_type": "code",
      "source": [
        "y_train=np.asarray(train_target).astype('float32')\n",
        "y_test=np.asarray(test_target).astype('float32')"
      ],
      "metadata": {
        "id": "Z6dokz8j4Eq6"
      },
      "execution_count": null,
      "outputs": []
    },
    {
      "cell_type": "code",
      "source": [
        "#creat Validation data"
      ],
      "metadata": {
        "id": "whES2gRc6ZpZ"
      },
      "execution_count": null,
      "outputs": []
    },
    {
      "cell_type": "code",
      "source": [
        "x_val=x_train[:10000]\n",
        "y_val=y_train[:10000]\n",
        "x_train=x_train[10000:]\n",
        "y_train=y_train[10000:]"
      ],
      "metadata": {
        "id": "RC9nO3Py3b65"
      },
      "execution_count": null,
      "outputs": []
    },
    {
      "cell_type": "code",
      "source": [
        "#Fit Model"
      ],
      "metadata": {
        "id": "CQJXB0Dv6ech"
      },
      "execution_count": null,
      "outputs": []
    },
    {
      "cell_type": "code",
      "source": [
        "#use history tabel for model"
      ],
      "metadata": {
        "id": "-ktPah4tTSoe"
      },
      "execution_count": null,
      "outputs": []
    },
    {
      "cell_type": "code",
      "source": [
        "history=model.fit(x_train,y_train,epochs=5,batch_size=512,validation_data=(x_val,y_val))"
      ],
      "metadata": {
        "colab": {
          "base_uri": "https://localhost:8080/"
        },
        "id": "V4Gqg-VeTalT",
        "outputId": "4fbaf5b0-6080-4026-b178-12860f7e8b4b"
      },
      "execution_count": 103,
      "outputs": [
        {
          "output_type": "stream",
          "name": "stdout",
          "text": [
            "Epoch 1/5\n",
            "30/30 [==============================] - 5s 81ms/step - loss: 0.6754 - accuracy: 0.0000e+00 - val_loss: 0.6729 - val_accuracy: 0.0000e+00\n",
            "Epoch 2/5\n",
            "30/30 [==============================] - 1s 37ms/step - loss: 0.6520 - accuracy: 0.0000e+00 - val_loss: 0.6550 - val_accuracy: 0.0000e+00\n",
            "Epoch 3/5\n",
            "30/30 [==============================] - 1s 35ms/step - loss: 0.6213 - accuracy: 0.0000e+00 - val_loss: 0.6311 - val_accuracy: 0.0000e+00\n",
            "Epoch 4/5\n",
            "30/30 [==============================] - 2s 56ms/step - loss: 0.5858 - accuracy: 0.0000e+00 - val_loss: 0.6071 - val_accuracy: 0.0000e+00\n",
            "Epoch 5/5\n",
            "30/30 [==============================] - 2s 51ms/step - loss: 0.5488 - accuracy: 0.0000e+00 - val_loss: 0.5822 - val_accuracy: 0.0000e+00\n"
          ]
        }
      ]
    },
    {
      "cell_type": "code",
      "source": [
        "history_dict=history.history\n",
        "history_dict.keys()"
      ],
      "metadata": {
        "colab": {
          "base_uri": "https://localhost:8080/"
        },
        "id": "kaxWiIPtTaqC",
        "outputId": "2b3e6b46-d28c-4b98-d49e-60e88d955d78"
      },
      "execution_count": 104,
      "outputs": [
        {
          "output_type": "execute_result",
          "data": {
            "text/plain": [
              "dict_keys(['loss', 'accuracy', 'val_loss', 'val_accuracy'])"
            ]
          },
          "metadata": {},
          "execution_count": 104
        }
      ]
    },
    {
      "cell_type": "code",
      "source": [
        "print(history_dict['loss'])"
      ],
      "metadata": {
        "colab": {
          "base_uri": "https://localhost:8080/"
        },
        "id": "jnGT6FfGUttn",
        "outputId": "d0b6f915-4063-41a8-becb-44930e0e8a67"
      },
      "execution_count": 105,
      "outputs": [
        {
          "output_type": "stream",
          "name": "stdout",
          "text": [
            "[0.6753847002983093, 0.6520153284072876, 0.6212770342826843, 0.5858243107795715, 0.54878830909729]\n"
          ]
        }
      ]
    },
    {
      "cell_type": "code",
      "source": [
        "#plot Validation Loss with Training Loss"
      ],
      "metadata": {
        "id": "DWrH7TSCVSCC"
      },
      "execution_count": null,
      "outputs": []
    },
    {
      "cell_type": "code",
      "source": [
        "import matplotlib.pyplot as plt\n"
      ],
      "metadata": {
        "id": "TTx9vP9xYIBb"
      },
      "execution_count": null,
      "outputs": []
    },
    {
      "cell_type": "code",
      "source": [
        "val_loss=history_dict['val_loss']\n",
        "training_loss=history_dict['loss']"
      ],
      "metadata": {
        "id": "Wadm3a2PYOjK"
      },
      "execution_count": 106,
      "outputs": []
    },
    {
      "cell_type": "code",
      "source": [
        "epoch=range(1,len(history_dict['loss'])+ 1)"
      ],
      "metadata": {
        "id": "bT_fT254Yju7"
      },
      "execution_count": 107,
      "outputs": []
    },
    {
      "cell_type": "code",
      "source": [
        "len(history_dict['loss'])"
      ],
      "metadata": {
        "colab": {
          "base_uri": "https://localhost:8080/"
        },
        "id": "G3C52VOcuF6I",
        "outputId": "73f7cd82-91b4-44d4-f9ca-f92e29233eed"
      },
      "execution_count": 95,
      "outputs": [
        {
          "output_type": "execute_result",
          "data": {
            "text/plain": [
              "5"
            ]
          },
          "metadata": {},
          "execution_count": 95
        }
      ]
    },
    {
      "cell_type": "code",
      "source": [
        "plt.plot(epoch,val_loss,'b', label=\"Validatin Loss\")\n",
        "plt.plot(epoch,training_loss,'bo',label='Training Loss')\n",
        "plt.xlabel('Epoch')\n",
        "plt.ylabel('Loss')\n",
        "plt.legend()\n",
        "plt.show()"
      ],
      "metadata": {
        "colab": {
          "base_uri": "https://localhost:8080/",
          "height": 450
        },
        "id": "LhmMyES0YOmW",
        "outputId": "82ef2e4d-98fb-4192-e0b8-f763c78ee24b"
      },
      "execution_count": 108,
      "outputs": [
        {
          "output_type": "display_data",
          "data": {
            "text/plain": [
              "<Figure size 640x480 with 1 Axes>"
            ],
            "image/png": "[encoded data removed]"
          },
          "metadata": {}
        }
      ]
    },
    {
      "cell_type": "code",
      "source": [
        "val_accuracy=history_dict['val_accuracy']\n",
        "train_accuracy=history_dict['accuracy']"
      ],
      "metadata": {
        "id": "CwQj42YxzesZ"
      },
      "execution_count": 109,
      "outputs": []
    },
    {
      "cell_type": "code",
      "source": [
        "train_accuracy"
      ],
      "metadata": {
        "id": "aPskPTK9YOpe",
        "colab": {
          "base_uri": "https://localhost:8080/"
        },
        "outputId": "098a126d-27f4-45a6-cffb-7e02175cbc69"
      },
      "execution_count": 111,
      "outputs": [
        {
          "output_type": "execute_result",
          "data": {
            "text/plain": [
              "[0.0, 0.0, 0.0, 0.0, 0.0]"
            ]
          },
          "metadata": {},
          "execution_count": 111
        }
      ]
    },
    {
      "cell_type": "code",
      "source": [],
      "metadata": {
        "id": "J8kmLLDbYOsj"
      },
      "execution_count": null,
      "outputs": []
    },
    {
      "cell_type": "code",
      "source": [],
      "metadata": {
        "id": "QjFIBhKRYIEb"
      },
      "execution_count": null,
      "outputs": []
    },
    {
      "cell_type": "code",
      "source": [],
      "metadata": {
        "id": "QYhIjsPZYIHw"
      },
      "execution_count": null,
      "outputs": []
    },
    {
      "cell_type": "code",
      "source": [],
      "metadata": {
        "id": "91h5FT-kYIKu"
      },
      "execution_count": null,
      "outputs": []
    }
  ],
  "metadata": {
    "colab": {
      "provenance": []
    },
    "kernelspec": {
      "display_name": "Python 3",
      "name": "python3"
    },
    "language_info": {
      "name": "python"
    }
  },
  "nbformat": 4,
  "nbformat_minor": 0
}